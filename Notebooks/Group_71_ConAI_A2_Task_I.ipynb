{
 "cells": [
  {
   "cell_type": "markdown",
   "metadata": {},
   "source": [
    "# Team Details & Contribution\n",
    "\n",
    "---\n",
    "\n",
    "1. `Sarit Ghosh (2023AC05131) (100% contribution)`\n",
    "\n",
    "2. `Soumen Choudhury (2023AC05143) (100% contribution)`\n",
    "\n",
    "3. `Dhiman Kundu (2023AC05129) (100% contribution)`\n",
    "\n",
    "4. `Patil Omkar Mahesh (2023AC05085) (100% contribution)`\n",
    "\n",
    "5. `Kulkarni Siddharth Prasad (2023AC05082) (100% contribution)`"
   ]
  },
  {
   "cell_type": "markdown",
   "metadata": {
    "id": "1_f8Vh-pasxv"
   },
   "source": [
    "# Task I: Data Collection & Preprocessing\n",
    "\n",
    "---\n",
    "\n",
    "- Obtain financial statements for the last two years (publicly available or from a group member’s company).\n",
    "  \n",
    "- Convert documents (PDF, Excel, HTML) to plain text using OCR or appropriate parsers.\n",
    "\n",
    "- Clean text by removing noise like headers, footers, and page numbers.\n",
    "\n",
    "- Segment reports into logical sections (e.g., income statement, balance sheet).\n",
    "\n",
    "- Construct at least `50` question-answer (Q/A) pairs reflecting the financial data.\n",
    "\n",
    "- Example:\n",
    "    - `Q: What was the company’s revenue in 2023?`\n",
    "    - `A: The company’s revenue in 2023 was $4.13 billion`"
   ]
  },
  {
   "cell_type": "markdown",
   "metadata": {},
   "source": [
    "# Data Collection"
   ]
  },
  {
   "cell_type": "markdown",
   "metadata": {},
   "source": [
    "- **Company:** `PHILLIPS EDISON & COMPANY, INC`.\n",
    "  \n",
    "- **FY:** `Dec 31, 2023 to Sept 30, 2024`\n",
    "  - **HTML Data Link:** `https://www.sec.gov/ix?doc=/Archives/edgar/data/0001476204/000147620425000065/peco-20250331.htm`\n",
    "    \n",
    "  - **Page No:** `1 to 35`.\n",
    "    \n",
    "- **FY:** `Dec 31, 2024 to June 30, 2025`\n",
    "  - **HTML Data Link:** `https://www.sec.gov/Archives/edgar/data/1476204/000147620425000092/peco-20250630.htm`\n",
    "\n",
    "  - **Page No:** `1 to 39`.\n",
    "    \n",
    "- `Saved the HTML's → PDF's (First 35 & 39 Pages only have FINANCIAL STATEMENTS)`."
   ]
  },
  {
   "cell_type": "markdown",
   "metadata": {},
   "source": [
    "# Importing Libraries"
   ]
  },
  {
   "cell_type": "code",
   "execution_count": 101,
   "metadata": {},
   "outputs": [],
   "source": [
    "import os, requests, re, pytesseract\n",
    "from pdf2image import convert_from_path\n",
    "from PIL import Image\n",
    "from tqdm import tqdm\n",
    "from groq import Groq\n",
    "from textwrap import dedent\n",
    "import pandas as pd"
   ]
  },
  {
   "cell_type": "markdown",
   "metadata": {},
   "source": [
    "# Parsing: PDF → Text (OCR)"
   ]
  },
  {
   "cell_type": "code",
   "execution_count": 5,
   "metadata": {},
   "outputs": [],
   "source": [
    "pytesseract.pytesseract.tesseract_cmd = r'C:\\Program Files\\Tesseract-OCR\\tesseract.exe'\n",
    "\n",
    "def clean_line(line):\n",
    "    \"\"\"\n",
    "    Task: Cleans OCR'd lines by removing headers, footers and page numbers.\n",
    "    Args: line (str): A line of text.\n",
    "    Returns: str: Cleaned line or empty string if filtered.\n",
    "    \"\"\"\n",
    "    line = line.strip()\n",
    "    if not line:\n",
    "        return \"\"\n",
    "    if re.match(r\"^\\s*\\d+\\s*$\", line):\n",
    "        return \"\"\n",
    "    if any(keyword in line.lower() for keyword in [\"philips\", \"peco-\", \"unaudited\"]):\n",
    "        return \"\"\n",
    "    return line\n",
    "\n",
    "\n",
    "def extract_and_save_full_clean_text(pdf_path, output_txt_path, poppler_path):\n",
    "    \"\"\"\n",
    "    Task: Extracts full OCR text (including text and tables) from a scanned/image PDF using pytesseract, applies cleaning rules and saves to a text file.\n",
    "    Args:\n",
    "        pdf_path (str): Path to input PDF.\n",
    "        output_txt_path (str): Path to save the cleaned OCR output.\n",
    "        poppler_path (str, optional): Path to Poppler binary (needed on Windows).\n",
    "    \"\"\"\n",
    "    print(f\"📄 Processing: {pdf_path}\")\n",
    "    \n",
    "    try:\n",
    "        pages = convert_from_path(pdf_path, dpi = 300, poppler_path = poppler_path)\n",
    "    except Exception as e:\n",
    "        print(f\"[Fatal Error] Couldn't convert PDF: {e}\")\n",
    "        return\n",
    "\n",
    "    full_text = []\n",
    "\n",
    "    for i, image in enumerate(tqdm(pages, desc = f\"OCR'ing {os.path.basename(pdf_path)}\")):\n",
    "        try:\n",
    "            page_text = pytesseract.image_to_string(image)\n",
    "            lines = page_text.splitlines()\n",
    "\n",
    "            for line in lines:\n",
    "                cleaned = clean_line(line)\n",
    "                if cleaned:\n",
    "                    full_text.append(cleaned)\n",
    "\n",
    "        except Exception as e:\n",
    "            print(f\"[Error] Page {i+1}: {e}\")\n",
    "            continue\n",
    "\n",
    "    try:\n",
    "        with open(output_txt_path, 'w', encoding = 'utf-8') as f:\n",
    "            f.write(\"\\n\".join(full_text))\n",
    "        print(f\"✅ Saved extracted text to: {output_txt_path}\")\n",
    "    except Exception as e:\n",
    "        print(f\"[Error] Couldn't save file: {e}\")"
   ]
  },
  {
   "cell_type": "code",
   "execution_count": 7,
   "metadata": {},
   "outputs": [
    {
     "name": "stdout",
     "output_type": "stream",
     "text": [
      "📄 Processing: Philips_FD_2023-24.pdf\n"
     ]
    },
    {
     "name": "stderr",
     "output_type": "stream",
     "text": [
      "OCR'ing Philips_FD_2023-24.pdf: 100%|██████████| 35/35 [01:51<00:00,  3.20s/it]"
     ]
    },
    {
     "name": "stdout",
     "output_type": "stream",
     "text": [
      "✅ Saved extracted text to: Philips_FD_2023-24.txt\n"
     ]
    },
    {
     "name": "stderr",
     "output_type": "stream",
     "text": [
      "\n"
     ]
    }
   ],
   "source": [
    "extract_and_save_full_clean_text(\n",
    "    pdf_path = \"Philips_FD_2023-24.pdf\",\n",
    "    output_txt_path = \"RAW_Philips_FD_2023-24.txt\",\n",
    "    poppler_path = r\"C:\\Users\\Asus\\Desktop\\College Stuff\\MTech\\Sem 3\\CAI\\A2\\poppler-24.08.0\\Library\\bin\"\n",
    ")"
   ]
  },
  {
   "cell_type": "code",
   "execution_count": 9,
   "metadata": {},
   "outputs": [
    {
     "name": "stdout",
     "output_type": "stream",
     "text": [
      "📄 Processing: Philips_FD_2024-25.pdf\n"
     ]
    },
    {
     "name": "stderr",
     "output_type": "stream",
     "text": [
      "OCR'ing Philips_FD_2024-25.pdf: 100%|██████████| 39/39 [02:08<00:00,  3.30s/it]"
     ]
    },
    {
     "name": "stdout",
     "output_type": "stream",
     "text": [
      "✅ Saved extracted text to: Philips_FD_2024-25.txt\n"
     ]
    },
    {
     "name": "stderr",
     "output_type": "stream",
     "text": [
      "\n"
     ]
    }
   ],
   "source": [
    "extract_and_save_full_clean_text(\n",
    "    pdf_path = \"Philips_FD_2024-25.pdf\",\n",
    "    output_txt_path = \"RAW_Philips_FD_2024-25.txt\",\n",
    "    poppler_path = r\"C:\\Users\\Asus\\Desktop\\College Stuff\\MTech\\Sem 3\\CAI\\A2\\poppler-24.08.0\\Library\\bin\"\n",
    ")"
   ]
  },
  {
   "cell_type": "markdown",
   "metadata": {},
   "source": [
    "**Insights:**\n",
    "\n",
    "1. OCR pipeline correctly extracts text from scanned PDFs using Tesseract at `300 DPI` for high accuracy.\n",
    "\n",
    "2. Cleaning function effectively removes headers, footers and page numbers for a cleaner dataset.\n",
    "\n",
    "3. Processing loop handles per‑page errors gracefully without stopping the full extraction.\n",
    "\n",
    "4. Output is stored as a single consolidated `.txt` file, preserving the document's logical flow.\n",
    "\n",
    "5. Poppler integration enables reliable PDF-to-image conversion, crucial for Tesseract OCR on Windows."
   ]
  },
  {
   "cell_type": "markdown",
   "metadata": {},
   "source": [
    "# Segmenting Reports Into Logical Sections (GROQ LLM's)\n",
    "\n",
    "---\n",
    "\n",
    "#### Note: This will try to summarize long info, maths, insights into short sentences."
   ]
  },
  {
   "cell_type": "code",
   "execution_count": 54,
   "metadata": {},
   "outputs": [],
   "source": [
    "def segment_financial_text_with_groq(raw_text, file_label, output_path):\n",
    "    \"\"\"\n",
    "    Task: Sends raw OCR text to Groq API to segment and format it into structured financial sections.\n",
    "    Args:\n",
    "        raw_text (str): Unstructured raw OCR text.\n",
    "        file_label (str): Label like '2023-24' for headings.\n",
    "        output_path (str): File path to save the structured result.\n",
    "    \"\"\"\n",
    "\n",
    "    prompt = f\"\"\"\n",
    "GIVEN:\n",
    "- You are given raw OCR extracted text from a financial report (year: {file_label}).\n",
    "- The text may be noisy but contains the financial statements, disclosures and supporting notes.\n",
    "\n",
    "OBJECTIVE:\n",
    "- Segment the content into well-structured, labeled financial sections.\n",
    "\n",
    "RESPONSE FORMAT:\n",
    "<BRD>\n",
    "================== Section 1: Income Statement ==================\n",
    "- Bullet points summarizing key metrics like revenue, operating income, net income, EPS, etc.\n",
    "================== Section 2: Balance Sheet ==================\n",
    "- Bullet points capturing total assets, liabilities, equity, key ratios, etc.\n",
    "================== Section 3: Cash Flow Statement ==================\n",
    "- Bullet points highlighting operating, investing, and financing cash flows.\n",
    "================== Section 4: Real Estate Portfolio ==================\n",
    "- Bullet points on number/type of properties, acquisitions/dispositions, geographic exposure, ABR, lease structure, etc.\n",
    "================== Section 5: Leasing & Occupancy ==================\n",
    "- Bullet points about lease types, occupancy trends, tenant mix, rent structures, lease term, etc.\n",
    "================== Section 6: Debt & Financing ==================\n",
    "- Bullet points about total debt, interest rates, maturities, fixed/variable split, credit facilities, etc.\n",
    "================== Section 7: Equity & Distributions ==================\n",
    "- Bullet points on equity structure, dividends, OP units, buybacks, APIC, AOCI, etc.\n",
    "================== Section 8: Risk Factors & Strategic Outlook ==================\n",
    "- Bullet points on macroeconomic, tenant, environmental risks, and strategic goals.\n",
    "</BRD>\n",
    "\n",
    "INSTRUCTIONS:\n",
    "- You MUST include all the 8 logical financial sections.\n",
    "- Use the content and labels from the raw OCR to identify appropriate additional sections.\n",
    "- Summarize in clear bullet points using exact figures where available. There must be minimum 15 bullet points per section.\n",
    "- Use original financial terms when possible (e.g., \"FFO\", \"NOI\", \"ABR\", \"straight-line rent\").\n",
    "- Do NOT fabricate or infer data not present in the text.\n",
    "- Maintain the sequence and structure above, even if some sections are sparse.\n",
    "\n",
    "RAW OCR TEXT:\n",
    "{raw_text}\n",
    "\"\"\"\n",
    "\n",
    "\n",
    "    client = Groq(api_key = \"groq_api_key\")\n",
    "\n",
    "    completion = client.chat.completions.create(\n",
    "        model = \"deepseek-r1-distill-llama-70b\",\n",
    "        messages = [\n",
    "            {\n",
    "                \"role\": \"user\",\n",
    "                \"content\": prompt\n",
    "            }\n",
    "        ],\n",
    "        temperature = 0.3,\n",
    "        top_p = 0.9,\n",
    "        stream = False,\n",
    "        stop = None,\n",
    "        seed= 123,\n",
    "    )\n",
    "\n",
    "    full_response = completion.choices[0].message.content\n",
    "\n",
    "    # Extract content between <BRD> and </BRD>\n",
    "    match = re.search(r\"<BRD>(.*?)</BRD>\", full_response, re.DOTALL)\n",
    "    if match:\n",
    "        structured_text = match.group(1).strip()\n",
    "    else:\n",
    "        raise ValueError(\"❌ Could not find <BRD> ... </BRD> section in the response.\")\n",
    "\n",
    "    with open(output_path, 'w', encoding = 'utf-8') as f:\n",
    "        f.write(structured_text)\n",
    "\n",
    "    print(f\"✅ Saved structured version to {output_path}\")"
   ]
  },
  {
   "cell_type": "code",
   "execution_count": 47,
   "metadata": {},
   "outputs": [
    {
     "name": "stdout",
     "output_type": "stream",
     "text": [
      "✅ Saved structured version to Cleaned_Philips_FD_2023-24.txt\n"
     ]
    }
   ],
   "source": [
    "with open(\"Philips_FD_2023-24.txt\", \"r\", encoding = \"utf-8\") as f:\n",
    "    raw_text_2023 = f.read()\n",
    "\n",
    "segment_financial_text_with_groq(\n",
    "    raw_text = raw_text_2023,\n",
    "    file_label = \"2023-24\",\n",
    "    output_path = \"Cleaned_Philips_FD_2023-24.txt\"\n",
    ")"
   ]
  },
  {
   "cell_type": "code",
   "execution_count": 49,
   "metadata": {},
   "outputs": [
    {
     "name": "stdout",
     "output_type": "stream",
     "text": [
      "✅ Saved structured version to Cleaned_Philips_FD_2024-25.txt\n"
     ]
    }
   ],
   "source": [
    "with open(\"Philips_FD_2024-25.txt\", \"r\", encoding = \"utf-8\") as f:\n",
    "    raw_text_2024 = f.read()\n",
    "\n",
    "segment_financial_text_with_groq(\n",
    "    raw_text = raw_text_2024,\n",
    "    file_label = \"2024-25\",\n",
    "    output_path = \"Cleaned_Philips_FD_2024-25.txt\"\n",
    ")"
   ]
  },
  {
   "cell_type": "markdown",
   "metadata": {},
   "source": [
    "**Insights:**\n",
    "\n",
    "1. Used `Groq’s` `deepseek-r1-distill-llama-70b` to transform noisy OCR output into a `structured 8‑section financial report`.\n",
    "\n",
    "2. Enforces a strict template with labeled sections, ensuring uniform segmentation across reports.\n",
    "\n",
    "3. Requires at least `15` factual bullet points per section, encouraging thorough extraction of figures.\n",
    "\n",
    "4. Retains original financial terminology `(e.g., FFO, NOI, ABR)` to preserve domain accuracy.\n",
    "\n",
    "5. Saves the cleaned, structured output to a specified file path for downstream processing."
   ]
  },
  {
   "cell_type": "markdown",
   "metadata": {},
   "source": [
    "# Combining Two Segmented Text Files Into Single Text File"
   ]
  },
  {
   "cell_type": "code",
   "execution_count": 88,
   "metadata": {},
   "outputs": [],
   "source": [
    "def combine_text_files(file_paths):\n",
    "    \"\"\"\n",
    "    Task: Combines the content of multiple text files into one string.\n",
    "    Args: file_paths (list): List of file paths to combine.\n",
    "    Returns: str: Combined text content.\n",
    "    \"\"\"\n",
    "    combined_text = []\n",
    "\n",
    "    for path in file_paths:\n",
    "        try:\n",
    "            with open(path, 'r', encoding = 'utf-8') as f:\n",
    "                content = f.read()\n",
    "                combined_text.append(f\"--- Content from {os.path.basename(path)} ---\\n\" + content)\n",
    "        except Exception as e:\n",
    "            print(f\"[Error] Could not read '{path}': {e}\")\n",
    "\n",
    "    return \"\\n===================================================================================\\n\".join(combined_text)"
   ]
  },
  {
   "cell_type": "code",
   "execution_count": 90,
   "metadata": {},
   "outputs": [],
   "source": [
    "combined_text = combine_text_files([\n",
    "    \"Cleaned_Philips_FD_2023-24.txt\",\n",
    "    \"Cleaned_Philips_FD_2024-25.txt\"\n",
    "])"
   ]
  },
  {
   "cell_type": "markdown",
   "metadata": {},
   "source": [
    "# Generating Top 50 QnA Pairs For The Combined Text"
   ]
  },
  {
   "cell_type": "code",
   "execution_count": 92,
   "metadata": {},
   "outputs": [],
   "source": [
    "def call_groq_for_qna(text):\n",
    "    \"\"\"\n",
    "    Task: Calls Groq API to generate Q/A pairs from extracted text.\n",
    "    Args:\n",
    "        text (str): OCR extracted text.\n",
    "    Returns:\n",
    "        list: List of 75 Q/A dicts.\n",
    "    \"\"\"\n",
    "\n",
    "    prompt = f\"\"\"ROLE: You are a financial analyst assistant.\n",
    "\n",
    "---------------\n",
    "TASK: From the financial statement text provided below, generate exactly **75 diverse question-answer pairs**. These questions should test understanding of the financial content, including **numeric values, interpretations, trends, concepts, and general context** related to the financial statement.\n",
    "\n",
    "---------------\n",
    "EXAMPLE FORMAT (Zero-Shot Example):\n",
    "Q: What was the company’s revenue in 2023?\n",
    "A: The company’s revenue in 2023 was $4.13 billion.\n",
    "\n",
    "---------------\n",
    "INSTRUCTIONS:\n",
    "\n",
    "1. All 75 questions must be **diverse**:\n",
    "- Some should ask about **specific financial figures** (e.g., revenue, profit, EPS, operating margin, assets, cash flow, etc.) with the **associated financial year**.\n",
    "- Others should be **theoretical or descriptive**, asking about financial concepts, trends, comparisons between years, or the meaning of certain financial terms or sections.\n",
    "- Include a few **general or contextual questions** that test understanding beyond raw numbers (e.g., \"What does the income statement reveal about the company's operations?\" or \"What can be inferred from the change in liabilities?\").\n",
    "\n",
    "2. Answers must be **complete and informative**, not just single words or numbers. For numeric-based questions, include the **value with the year**, but also **briefly explain what the figure represents**.\n",
    "\n",
    "3. Use **natural, formal, and precise language** suitable for finance professionals.\n",
    "\n",
    "4. Return output STRICTLY in the following JSON object format:\n",
    "{{\n",
    "    \"qna_pairs\": [\n",
    "        {{\"generated_q1\": \"generated_a1\"}},\n",
    "        {{\"generated_q2\": \"generated_a2\"}},\n",
    "        ...\n",
    "        {{\"generated_q75\": \"generated_a75\"}}\n",
    "    ]\n",
    "}}\n",
    "\n",
    "5. Do NOT include any explanations, notes, or extra commentary — only the JSON object as shown above.\n",
    "\n",
    "---------------\n",
    "INPUT TEXT:\n",
    "{text}\n",
    "\"\"\"\n",
    "\n",
    "    client = Groq(api_key = \"groq_api_key\")\n",
    "\n",
    "    completion = client.chat.completions.create(\n",
    "        model = \"deepseek-r1-distill-llama-70b\",\n",
    "        messages = [{\"role\": \"user\", \"content\": prompt}],\n",
    "        temperature = 0.3,\n",
    "        top_p = 0.9,\n",
    "        stream = False,\n",
    "        response_format = {\"type\": \"json_object\"},\n",
    "        stop = None,\n",
    "        seed = 123,\n",
    "    )\n",
    "\n",
    "    raw_response = completion.choices[0].message.content.strip()\n",
    "    output_data = json.loads(raw_response)\n",
    "    return output_data[\"qna_pairs\"]"
   ]
  },
  {
   "cell_type": "code",
   "execution_count": 94,
   "metadata": {
    "scrolled": true
   },
   "outputs": [
    {
     "data": {
      "text/plain": [
       "[{'generated_q1': 'What was the company’s total revenue for Q3 2024?',\n",
       "  'generated_a1': 'The company’s total revenue for Q3 2024 was $165.53 million, representing an 8.6% increase from Q3 2023.'},\n",
       " {'generated_q2': 'What was the year-to-date revenue growth in 2024 compared to 2023?',\n",
       "  'generated_a2': 'The year-to-date revenue growth in 2024 was 7.2% compared to 2023.'},\n",
       " {'generated_q3': 'What was the rental income for Q3 2024?',\n",
       "  'generated_a3': 'The rental income for Q3 2024 was $161.78 million.'},\n",
       " {'generated_q4': 'What were the operating expenses for Q3 2024?',\n",
       "  'generated_a4': 'The operating expenses for Q3 2024 were $126.54 million, up from $112.39 million in Q3 2023.'},\n",
       " {'generated_q5': 'What was the net income attributable to stockholders in Q3 2024?',\n",
       "  'generated_a5': 'The net income attributable to stockholders in Q3 2024 was $11.60 million.'},\n",
       " {'generated_q6': 'What was the EPS for Q3 2024?',\n",
       "  'generated_a6': 'The EPS for Q3 2024 was $0.09.'},\n",
       " {'generated_q7': 'What was the comprehensive income attributable to stockholders in Q3 2024?',\n",
       "  'generated_a7': 'The comprehensive income attributable to stockholders in Q3 2024 was $2.15 million after unrealized derivative losses.'},\n",
       " {'generated_q8': 'What was the net income margin for Q3 2024?',\n",
       "  'generated_a8': 'The net income margin for Q3 2024 was approximately 7.0% of total revenues.'},\n",
       " {'generated_q9': 'What were the total assets as of September 30, 2024?',\n",
       "  'generated_a9': 'The total assets as of September 30, 2024, were $4.95 billion.'},\n",
       " {'generated_q10': 'What was the cash and equivalents as of September 30, 2024?',\n",
       "  'generated_a10': 'The cash and equivalents as of September 30, 2024, were $6.45 million.'},\n",
       " {'generated_q11': 'What was the total debt obligations as of September 30, 2024?',\n",
       "  'generated_a11': 'The total debt obligations as of September 30, 2024, were $2.10 billion.'},\n",
       " {'generated_q12': 'What was the stockholders’ equity as of September 30, 2024?',\n",
       "  'generated_a12': 'The stockholders’ equity as of September 30, 2024, was $2.25 billion.'},\n",
       " {'generated_q13': 'What was the debt-to-equity ratio as of September 30, 2024?',\n",
       "  'generated_a13': 'The debt-to-equity ratio as of September 30, 2024, was approximately 0.93.'},\n",
       " {'generated_q14': 'What was the equity ratio as of September 30, 2024?',\n",
       "  'generated_a14': 'The equity ratio as of September 30, 2024, was approximately 46%. '},\n",
       " {'generated_q15': 'What was the net cash from operations year-to-date as of Q3 2024?',\n",
       "  'generated_a15': 'The net cash from operations year-to-date as of Q3 2024 was $250.71 million.'},\n",
       " {'generated_q16': 'What was the depreciation and amortization year-to-date as of Q3 2024?',\n",
       "  'generated_a16': 'The depreciation and amortization year-to-date as of Q3 2024 was $189.71 million.'},\n",
       " {'generated_q17': 'What was the straight-line rent adjustment year-to-date as of Q3 2024?',\n",
       "  'generated_a17': 'The straight-line rent adjustment year-to-date as of Q3 2024 was $(6.59 million).'},\n",
       " {'generated_q18': 'What was the share-based compensation year-to-date as of Q3 2024?',\n",
       "  'generated_a18': 'The share-based compensation year-to-date as of Q3 2024 was $6.98 million.'},\n",
       " {'generated_q19': 'What was the net cash used in investing activities year-to-date as of Q3 2024?',\n",
       "  'generated_a19': 'The net cash used in investing activities year-to-date as of Q3 2024 was $259.62 million.'},\n",
       " {'generated_q20': 'What was the net cash from financing activities year-to-date as of Q3 2024?',\n",
       "  'generated_a20': 'The net cash from financing activities year-to-date as of Q3 2024 was $9.37 million.'},\n",
       " {'generated_q21': 'What was the ending cash and restricted cash as of September 30, 2024?',\n",
       "  'generated_a21': 'The ending cash and restricted cash as of September 30, 2024, were $9.33 million.'},\n",
       " {'generated_q22': 'How many wholly-owned properties did the company have as of September 30, 2024?',\n",
       "  'generated_a22': 'The company had 290 wholly-owned properties as of September 30, 2024.'},\n",
       " {'generated_q23': 'What was the future contractual rent as of September 30, 2024?',\n",
       "  'generated_a23': 'The future contractual rent as of September 30, 2024, was $2.34 billion.'},\n",
       " {'generated_q24': 'What was the geographic concentration risk as of September 30, 2024?',\n",
       "  'generated_a24': 'The geographic concentration risk as of September 30, 2024, was highest in Florida (12.2%) and California (10.9%) based on ABR.'},\n",
       " {'generated_q25': 'What was the average lease term remaining as of September 30, 2024?',\n",
       "  'generated_a25': 'The average lease term remaining as of September 30, 2024, was approximately 7 years.'},\n",
       " {'generated_q26': 'What was the occupancy rate as of September 30, 2024?',\n",
       "  'generated_a26': 'The occupancy rate as of September 30, 2024, remained strong.'},\n",
       " {'generated_q27': 'What was the total debt as of September 30, 2024?',\n",
       "  'generated_a27': 'The total debt as of September 30, 2024, was $2.10 billion.'},\n",
       " {'generated_q28': 'What was the weighted average interest rate on debt as of September 30, 2024?',\n",
       "  'generated_a28': 'The weighted average interest rate on debt as of September 30, 2024, was 4.4%. '},\n",
       " {'generated_q29': 'What was the fixed-rate debt as of September 30, 2024?',\n",
       "  'generated_a29': 'The fixed-rate debt as of September 30, 2024, was $1.99 billion.'},\n",
       " {'generated_q30': 'What was the variable-rate debt as of September 30, 2024?',\n",
       "  'generated_a30': 'The variable-rate debt as of September 30, 2024, was $145.75 million.'},\n",
       " {'generated_q31': 'What was the secured debt as of September 30, 2024?',\n",
       "  'generated_a31': 'The secured debt as of September 30, 2024, was $463.25 million.'},\n",
       " {'generated_q32': 'What was the unsecured debt as of September 30, 2024?',\n",
       "  'generated_a32': 'The unsecured debt as of September 30, 2024, was $1.67 billion.'},\n",
       " {'generated_q33': 'What was the revolving credit facility balance as of September 30, 2024?',\n",
       "  'generated_a33': 'The revolving credit facility balance as of September 30, 2024, was $36.0 million.'},\n",
       " {'generated_q34': 'What was the stockholders’ equity as of September 30, 2024?',\n",
       "  'generated_a34': 'The stockholders’ equity as of September 30, 2024, was $2.25 billion.'},\n",
       " {'generated_q35': 'What was the noncontrolling interests as of September 30, 2024?',\n",
       "  'generated_a35': 'The noncontrolling interests as of September 30, 2024, were $329.82 million.'},\n",
       " {'generated_q36': 'What was the monthly dividend per share as of September 30, 2024?',\n",
       "  'generated_a36': 'The monthly dividend per share as of September 30, 2024, was $0.1025.'},\n",
       " {'generated_q37': 'What was the YTD dividends paid as of September 30, 2024?',\n",
       "  'generated_a37': 'The YTD dividends paid as of September 30, 2024, were $108.57 million.'},\n",
       " {'generated_q38': 'What was the number of common shares outstanding as of September 30, 2024?',\n",
       "  'generated_a38': 'The number of common shares outstanding as of September 30, 2024, was 122.62 million.'},\n",
       " {'generated_q39': 'What was the accumulated deficit as of September 30, 2024?',\n",
       "  'generated_a39': 'The accumulated deficit as of September 30, 2024, was $(1.31 billion).'},\n",
       " {'generated_q40': 'What was the total revenue for Q2 2025?',\n",
       "  'generated_a40': 'The total revenue for Q2 2025 was $177.75 million, representing a 10.1% increase from Q2 2024.'},\n",
       " {'generated_q41': 'What was the year-to-date revenue growth in 2025 compared to 2024?',\n",
       "  'generated_a41': 'The year-to-date revenue growth in 2025 was 10.3% compared to 2024.'},\n",
       " {'generated_q42': 'What was the rental income for Q2 2025?',\n",
       "  'generated_a42': 'The rental income for Q2 2025 was $173.47 million.'},\n",
       " {'generated_q43': 'What were the operating expenses for Q2 2025?',\n",
       "  'generated_a43': 'The operating expenses for Q2 2025 were $134.73 million.'},\n",
       " {'generated_q44': 'What was the net income attributable to stockholders in Q2 2025?',\n",
       "  'generated_a44': 'The net income attributable to stockholders in Q2 2025 was $12.78 million.'},\n",
       " {'generated_q45': 'What was the EPS for Q2 2025?',\n",
       "  'generated_a45': 'The EPS for Q2 2025 was $0.10.'},\n",
       " {'generated_q46': 'What was the comprehensive income attributable to stockholders in Q2 2025?',\n",
       "  'generated_a46': 'The comprehensive income attributable to stockholders in Q2 2025 was $12.07 million after derivative fair value changes.'},\n",
       " {'generated_q47': 'What was the net income margin for Q2 2025?',\n",
       "  'generated_a47': 'The net income margin for Q2 2025 was approximately 7.2% of total revenue.'},\n",
       " {'generated_q48': 'What were the total assets as of June 30, 2025?',\n",
       "  'generated_a48': 'The total assets as of June 30, 2025, were $5.27 billion.'},\n",
       " {'generated_q49': 'What was the cash and restricted cash as of June 30, 2025?',\n",
       "  'generated_a49': 'The cash and restricted cash as of June 30, 2025, were $9.33 million.'},\n",
       " {'generated_q50': 'What was the total debt obligations as of June 30, 2025?',\n",
       "  'generated_a50': 'The total debt obligations as of June 30, 2025, were $2.39 billion.'},\n",
       " {'generated_q51': 'What was the stockholders’ equity as of June 30, 2025?',\n",
       "  'generated_a51': 'The stockholders’ equity as of June 30, 2025, was $2.29 billion.'},\n",
       " {'generated_q52': 'What was the debt-to-equity ratio as of June 30, 2025?',\n",
       "  'generated_a52': 'The debt-to-equity ratio as of June 30, 2025, was approximately 0.93.'},\n",
       " {'generated_q53': 'What was the equity ratio as of June 30, 2025?',\n",
       "  'generated_a53': 'The equity ratio as of June 30, 2025, was approximately 49.3%. '},\n",
       " {'generated_q54': 'What was the net cash from operations year-to-date as of Q2 2025?',\n",
       "  'generated_a54': 'The net cash from operations year-to-date as of Q2 2025 was $156.66 million.'},\n",
       " {'generated_q55': 'What was the depreciation and amortization year-to-date as of Q2 2025?',\n",
       "  'generated_a55': 'The depreciation and amortization year-to-date as of Q2 2025 was $135.70 million.'},\n",
       " {'generated_q56': 'What was the straight-line rent adjustment year-to-date as of Q2 2025?',\n",
       "  'generated_a56': 'The straight-line rent adjustment year-to-date as of Q2 2025 was $(4.95 million).'},\n",
       " {'generated_q57': 'What was the share-based compensation year-to-date as of Q2 2025?',\n",
       "  'generated_a57': 'The share-based compensation year-to-date as of Q2 2025 was $5.37 million.'},\n",
       " {'generated_q58': 'What was the net cash used in investing activities year-to-date as of Q2 2025?',\n",
       "  'generated_a58': 'The net cash used in investing activities year-to-date as of Q2 2025 was $329.12 million.'},\n",
       " {'generated_q59': 'What was the net cash from financing activities year-to-date as of Q2 2025?',\n",
       "  'generated_a59': 'The net cash from financing activities year-to-date as of Q2 2025 was $172.99 million.'},\n",
       " {'generated_q60': 'What was the ending cash and restricted cash as of June 30, 2025?',\n",
       "  'generated_a60': 'The ending cash and restricted cash as of June 30, 2025, were $9.33 million.'},\n",
       " {'generated_q61': 'How many wholly-owned properties did the company have as of June 30, 2025?',\n",
       "  'generated_a61': 'The company had 303 wholly-owned properties as of June 30, 2025.'},\n",
       " {'generated_q62': 'What was the future contractual rent as of June 30, 2025?',\n",
       "  'generated_a62': 'The future contractual rent as of June 30, 2025, was $2.51 billion.'},\n",
       " {'generated_q63': 'What was the geographic concentration risk as of June 30, 2025?',\n",
       "  'generated_a63': 'The geographic concentration risk as of June 30, 2025, was highest in Florida (11.7%), California (11.1%), and Texas (10.4%) based on ABR.'},\n",
       " {'generated_q64': 'What was the average lease term remaining as of June 30, 2025?',\n",
       "  'generated_a64': 'The average lease term remaining as of June 30, 2025, was approximately 7 years.'},\n",
       " {'generated_q65': 'What was the occupancy rate as of June 30, 2025?',\n",
       "  'generated_a65': 'The occupancy rate as of June 30, 2025, remained strong.'},\n",
       " {'generated_q66': 'What was the total debt as of June 30, 2025?',\n",
       "  'generated_a66': 'The total debt as of June 30, 2025, was $2.39 billion.'},\n",
       " {'generated_q67': 'What was the weighted average interest rate on debt as of June 30, 2025?',\n",
       "  'generated_a67': 'The weighted average interest rate on debt as of June 30, 2025, was 4.4%. '},\n",
       " {'generated_q68': 'What was the fixed-rate debt as of June 30, 2025?',\n",
       "  'generated_a68': 'The fixed-rate debt as of June 30, 2025, was $2.30 billion.'},\n",
       " {'generated_q69': 'What was the variable-rate debt as of June 30, 2025?',\n",
       "  'generated_a69': 'The variable-rate debt as of June 30, 2025, was $120.75 million.'},\n",
       " {'generated_q70': 'What was the secured debt as of June 30, 2025?',\n",
       "  'generated_a70': 'The secured debt as of June 30, 2025, was $426.39 million.'},\n",
       " {'generated_q71': 'What was the unsecured debt as of June 30, 2025?',\n",
       "  'generated_a71': 'The unsecured debt as of June 30, 2025, was $1.99 billion.'},\n",
       " {'generated_q72': 'What was the revolving credit facility balance as of June 30, 2025?',\n",
       "  'generated_a72': 'The revolving credit facility balance as of June 30, 2025, was $1B.'},\n",
       " {'generated_q73': 'What was the stockholders’ equity as of June 30, 2025?',\n",
       "  'generated_a73': 'The stockholders’ equity as of June 30, 2025, was $2.29 billion.'},\n",
       " {'generated_q74': 'What was the noncontrolling interests as of June 30, 2025?',\n",
       "  'generated_a74': 'The noncontrolling interests as of June 30, 2025, were $304.08 million.'},\n",
       " {'generated_q75': 'What was the monthly dividend per share as of June 30, 2025?',\n",
       "  'generated_a75': 'The monthly dividend per share as of June 30, 2025, was $0.1025.'}]"
      ]
     },
     "execution_count": 94,
     "metadata": {},
     "output_type": "execute_result"
    }
   ],
   "source": [
    "qna_pairs = call_groq_for_qna(combined_text)\n",
    "qna_pairs"
   ]
  },
  {
   "cell_type": "markdown",
   "metadata": {},
   "source": [
    "**Insights:**\n",
    "\n",
    "1. Uses `Groq's deepseek-r1-distill-llama-70b` to create exactly `75` structured financial `Q/A pairs` from extracted statements.\n",
    "\n",
    "2. Ensures question diversity across numeric facts, descriptive insights, trend analysis and contextual interpretation.\n",
    "\n",
    "3. Enforces complete, explanatory answers rather than standalone numbers for richer learning value."
   ]
  },
  {
   "cell_type": "markdown",
   "metadata": {},
   "source": [
    "# Storing Generated QnA Dataset → CSV"
   ]
  },
  {
   "cell_type": "code",
   "execution_count": 103,
   "metadata": {},
   "outputs": [],
   "source": [
    "def save_qna_to_csv(qna_list, file_path):\n",
    "    \"\"\"\n",
    "    Task: Saves Q/A pairs to a CSV file.\n",
    "    Args:\n",
    "        qna_list (list): List of Q/A dicts.\n",
    "        file_path (str): Path to save CSV.\n",
    "    \"\"\"\n",
    "    formatted_data = []\n",
    "    for item in qna_pairs:\n",
    "        for q_key, q_val in item.items():\n",
    "            if q_key.startswith(\"generated_q\"):\n",
    "                num = q_key.replace(\"generated_q\", \"\")\n",
    "                a_key = f\"generated_a{num}\"\n",
    "                question = q_val\n",
    "                answer = item.get(a_key, \"\")\n",
    "                formatted_data.append({\"Question\": question, \"Answer\": answer})\n",
    "    \n",
    "    # Create DataFrame\n",
    "    df = pd.DataFrame(formatted_data)\n",
    "    \n",
    "    # Save to CSV\n",
    "    df.to_csv(\"financial_qna_pairs.csv\", index = False, encoding = 'utf-8-sig')\n",
    "    \n",
    "    print(\"CSV saved as 'financial_qna_pairs.csv'\")"
   ]
  },
  {
   "cell_type": "code",
   "execution_count": 105,
   "metadata": {},
   "outputs": [
    {
     "name": "stdout",
     "output_type": "stream",
     "text": [
      "CSV saved as 'financial_qna_pairs.csv'\n"
     ]
    }
   ],
   "source": [
    "save_qna_to_csv(qna_pairs, \"financial_qna_pairs.csv\")"
   ]
  }
 ],
 "metadata": {
  "accelerator": "GPU",
  "colab": {
   "gpuType": "T4",
   "provenance": []
  },
  "kernelspec": {
   "display_name": "cv",
   "language": "python",
   "name": "cv"
  },
  "language_info": {
   "codemirror_mode": {
    "name": "ipython",
    "version": 3
   },
   "file_extension": ".py",
   "mimetype": "text/x-python",
   "name": "python",
   "nbconvert_exporter": "python",
   "pygments_lexer": "ipython3",
   "version": "3.11.13"
  }
 },
 "nbformat": 4,
 "nbformat_minor": 4
}
